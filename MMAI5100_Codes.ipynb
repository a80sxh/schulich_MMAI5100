{
 "cells": [
  {
   "cell_type": "code",
   "execution_count": null,
   "metadata": {},
   "outputs": [],
   "source": [
    "#2024-06-24 \n",
    "USE a80sxh_db\n",
    "\n",
    "#DATE/TIME FUNCTION\n",
    "SELECT CURRENT_TIMESTAMP AS current_datetime;\n",
    "\n",
    "#System date and time function can be used to return the current system datetime (Higher Precisim)\n",
    "\n",
    "SELECT SYSDATETIME()        AS system_datetime;\n",
    "SELECT SYSDATETIMEOFFSET()  AS sys_datetime_offset;\n",
    "SELECT SYSUTCDATETIME()     AS sys_utc_datetime;\n",
    "\n",
    "#Two options to get the date and tie of the computer on which the instance of SQL Server runs(Lower Precision)\n",
    "SELECT GETUTCDATE();\n",
    "\n",
    "#Lower Precision\n",
    "SELECT CURRENT_TIMESTAMP AS current_datetime;\n",
    "SELECT GETDATE()         AS current_datetime;\n",
    "SELECT GETUTCDATE()      AS current_utc_datetime;\n",
    "\n",
    "#Higher Precision\n",
    "SELECT SYSDATETIME();\n",
    "SELECT  SYSDATETIMEOFFSET();\n",
    "SELECT SYSUTCDATETIME()\n",
    "\n"
   ]
  }
 ],
 "metadata": {
  "language_info": {
   "name": "python"
  }
 },
 "nbformat": 4,
 "nbformat_minor": 2
}
